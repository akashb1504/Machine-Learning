{
 "cells": [
  {
   "cell_type": "code",
   "execution_count": 9,
   "id": "f827d4b6-5e68-4102-80e4-22843c11dc1b",
   "metadata": {},
   "outputs": [
    {
     "name": "stdout",
     "output_type": "stream",
     "text": [
      "Name : Athul Gopinath\n",
      "Roll No: CB.SC.I5DAS21018\n"
     ]
    }
   ],
   "source": [
    "print(\"Name : Athul Gopinath\")\n",
    "print(\"Roll No: CB.SC.I5DAS21018\")\n",
    "import pandas as pd\n",
    "import numpy as np\n",
    "from scipy import stats\n",
    "from sklearn.model_selection import train_test_split\n",
    "from sklearn.metrics import accuracy_score,precision_score,recall_score,f1_score\n",
    "from sklearn import datasets\n",
    "from sklearn import svm\n",
    "from sklearn.tree import DecisionTreeClassifier\n",
    "from sklearn.naive_bayes import GaussianNB\n",
    "from sklearn.ensemble import RandomForestClassifier\n",
    "df = pd.read_csv(\"Covid Data.csv\")\n",
    "df['SEX']=df['SEX'].replace({'Male':1,'Female':0})\n",
    "df['PATIENT_TYPE']=df['PATIENT_TYPE'].replace({'Returned Home':1,'Hosptilized':0})\n",
    "df['RESULTS']=df['RESULTS'].replace({'Positive':1,'Negative':0})\n",
    "x=df[['MEDICAL_UNIT', 'SEX', 'PATIENT_TYPE', 'PNEUMONIA', 'AGE', 'DIABETES',\n",
    "       'COPD', 'ASTHMA', 'INMSUPR', 'HIPERTENSION', 'OTHER_DISEASE',\n",
    "       'CARDIOVASCULAR', 'OBESITY', 'RENAL_CHRONIC', 'TOBACCO']]\n",
    "y=df['RESULTS']\n",
    "x_train,x_test,y_train,y_test = train_test_split(x,y,test_size=0.2,random_state=1)"
   ]
  },
  {
   "cell_type": "code",
   "execution_count": 10,
   "id": "6fb6f175-053d-419b-82eb-3451f9d39184",
   "metadata": {},
   "outputs": [
    {
     "name": "stdout",
     "output_type": "stream",
     "text": [
      "Name : Athul Gopinath\n",
      "Roll No: CB.SC.I5DAS21018\n",
      "Accuracy of random forest: 0.878\n",
      "Precision of random forest: 0.85688654552676\n",
      "Recall of random forest: 0.878\n",
      "f1-score of random forest: 0.8605495941673944\n"
     ]
    }
   ],
   "source": [
    "print(\"Name : Athul Gopinath\")\n",
    "print(\"Roll No: CB.SC.I5DAS21018\")\n",
    "rf = RandomForestClassifier()\n",
    "rf.fit(x_train,y_train)\n",
    "rf_pred=rf.predict(x_test)\n",
    "print(\"Accuracy of random forest:\",accuracy_score(y_test,rf_pred))\n",
    "print(\"Precision of random forest:\",precision_score(y_test,rf_pred,average='weighted'))\n",
    "print(\"Recall of random forest:\",recall_score(y_test,rf_pred,average='weighted'))\n",
    "print(\"f1-score of random forest:\",f1_score(y_test,rf_pred,average='weighted'))"
   ]
  },
  {
   "cell_type": "code",
   "execution_count": null,
   "id": "90d6b194-25e6-4b0f-ac58-a2f7049fc69e",
   "metadata": {},
   "outputs": [
    {
     "name": "stdout",
     "output_type": "stream",
     "text": [
      "Name : Athul Gopinath\n",
      "Roll No: CB.SC.I5DAS21018\n"
     ]
    }
   ],
   "source": [
    "print(\"Name : Athul Gopinath\")\n",
    "print(\"Roll No: CB.SC.I5DAS21018\")\n",
    "svm_clf = svm.SVC(kernel='linear')\n",
    "svm_clf.fit(x_train,y_train)\n",
    "svm_clf_pred = svm_clf.predict(x_test)\n",
    "print(\"Accuracy of support vector machine:\",accuracy_score(y_test,svm_clf_pred))\n",
    "print(\"Precision of svm:\",precision_score(y_test,svm_clf_pred,average='weighted'))\n",
    "print(\"Recall of svm:\",recall_score(y_test,svm_clf_pred,average='weighted'))\n",
    "print(\"f1-score of svm:\",f1_score(y_test,svm_clf_pred,average='weighted'))"
   ]
  },
  {
   "cell_type": "code",
   "execution_count": 12,
   "id": "9e2904b6-7c58-4d4f-9abb-6acb480f060e",
   "metadata": {},
   "outputs": [
    {
     "name": "stdout",
     "output_type": "stream",
     "text": [
      "Name : Athul Gopinath\n",
      "Roll No: CB.SC.I5DAS21018\n",
      "accuracy of gaussian Naive Bayes 0.8945\n",
      "Precision of svm: 0.8871932971337012\n",
      "Recall of svm: 0.8945\n",
      "f1-score of svm: 0.8694376058208925\n"
     ]
    }
   ],
   "source": [
    "print(\"Name : Athul Gopinath\")\n",
    "print(\"Roll No: CB.SC.I5DAS21018\")\n",
    "gnb =  GaussianNB() \n",
    "gnb.fit(x_train,y_train)\n",
    "gnb_pred = gnb.predict(x_test)\n",
    "print(\"accuracy of gaussian Naive Bayes\",accuracy_score(y_test,gnb_pred))\n",
    "print(\"Precision of svm:\",precision_score(y_test,gnb_pred,average='weighted'))\n",
    "print(\"Recall of svm:\",recall_score(y_test,gnb_pred,average='weighted'))\n",
    "print(\"f1-score of svm:\",f1_score(y_test,gnb_pred,average='weighted'))"
   ]
  },
  {
   "cell_type": "code",
   "execution_count": 11,
   "id": "ce528dc2-f21f-42b3-b61d-98d0a589c8cb",
   "metadata": {},
   "outputs": [
    {
     "name": "stdout",
     "output_type": "stream",
     "text": [
      "Name : Athul Gopinath\n",
      "Roll No: CB.SC.I5DAS21018\n",
      "accuracy of decision tree: 0.89\n",
      "Precision of decision tree: 0.8792850051664405\n",
      "Recall of decision tree: 0.89\n",
      "f1-score of decision tree: 0.8627068466730956\n"
     ]
    }
   ],
   "source": [
    "print(\"Name : Athul Gopinath\")\n",
    "print(\"Roll No: CB.SC.I5DAS21018\")\n",
    "dt = DecisionTreeClassifier(random_state=0,max_depth=7)\n",
    "dt.fit(x_train,y_train)\n",
    "dt_pred=dt.predict(x_test)\n",
    "print(\"accuracy of decision tree:\",accuracy_score(y_test,dt_pred))\n",
    "print(\"Precision of decision tree:\",precision_score(y_test,dt_pred,average='weighted'))\n",
    "print(\"Recall of decision tree:\",recall_score(y_test,dt_pred,average='weighted'))\n",
    "print(\"f1-score of decision tree:\",f1_score(y_test,dt_pred,average='weighted'))"
   ]
  },
  {
   "cell_type": "code",
   "execution_count": null,
   "id": "cd7adac5-8275-456a-8c18-6ebd12516967",
   "metadata": {},
   "outputs": [],
   "source": []
  }
 ],
 "metadata": {
  "kernelspec": {
   "display_name": "Python 3 (ipykernel)",
   "language": "python",
   "name": "python3"
  },
  "language_info": {
   "codemirror_mode": {
    "name": "ipython",
    "version": 3
   },
   "file_extension": ".py",
   "mimetype": "text/x-python",
   "name": "python",
   "nbconvert_exporter": "python",
   "pygments_lexer": "ipython3",
   "version": "3.11.7"
  }
 },
 "nbformat": 4,
 "nbformat_minor": 5
}
