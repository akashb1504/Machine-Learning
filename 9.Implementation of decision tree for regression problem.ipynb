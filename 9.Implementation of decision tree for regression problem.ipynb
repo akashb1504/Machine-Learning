{
 "cells": [
  {
   "cell_type": "code",
   "execution_count": 2,
   "id": "0a706b57-7d43-4220-b8e2-c86f81b8ad26",
   "metadata": {},
   "outputs": [
    {
     "name": "stdout",
     "output_type": "stream",
     "text": [
      "Name : Athul Gopinath\n",
      "Roll No: CB.SC.I5DAS21018\n",
      "R2 Score: 0.9871300373946597\n"
     ]
    }
   ],
   "source": [
    "import pandas \n",
    "import sklearn \n",
    "from sklearn.metrics import r2_score \n",
    "from sklearn.model_selection import train_test_split \n",
    "from sklearn.tree import DecisionTreeRegressor \n",
    "bike = pandas.read_csv(\"day.csv\") \n",
    "X = bike.iloc[:,:-1] \n",
    "Y = bike['cnt'] \n",
    "X_train, X_test, Y_train, Y_test = train_test_split(X, Y, test_size=.20, random_state=0)\n",
    "DT_model = DecisionTreeRegressor() \n",
    "DT_model.fit(X_train,Y_train) \n",
    "DT_predict = DT_model.predict(X_test) \n",
    "print(\"Name : Athul Gopinath\")\n",
    "print(\"Roll No: CB.SC.I5DAS21018\")\n",
    "print(\"R2 Score:\", sklearn.metrics.r2_score(Y_test,DT_predict)) \n"
   ]
  },
  {
   "cell_type": "code",
   "execution_count": null,
   "id": "3e59eb03-f029-4f52-a35c-6e1a7f396868",
   "metadata": {},
   "outputs": [],
   "source": []
  }
 ],
 "metadata": {
  "kernelspec": {
   "display_name": "Python 3 (ipykernel)",
   "language": "python",
   "name": "python3"
  },
  "language_info": {
   "codemirror_mode": {
    "name": "ipython",
    "version": 3
   },
   "file_extension": ".py",
   "mimetype": "text/x-python",
   "name": "python",
   "nbconvert_exporter": "python",
   "pygments_lexer": "ipython3",
   "version": "3.11.7"
  }
 },
 "nbformat": 4,
 "nbformat_minor": 5
}
