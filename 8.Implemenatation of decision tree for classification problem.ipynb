{
 "cells": [
  {
   "cell_type": "code",
   "execution_count": 1,
   "id": "6dd4b19a-a426-48fa-b6d2-8d11c10792c5",
   "metadata": {},
   "outputs": [
    {
     "name": "stdout",
     "output_type": "stream",
     "text": [
      "Name : Athul Gopinath\n",
      "Roll No: CB.SC.I5DAS21018\n",
      "Accuracy of Decision Tree Classifier:  0.9666666666666667\n"
     ]
    }
   ],
   "source": [
    "import numpy as np \n",
    "import pandas as pd \n",
    "from sklearn.model_selection import train_test_split \n",
    "from sklearn.metrics import accuracy_score, precision_score, recall_score, f1_score \n",
    "from sklearn import datasets \n",
    "from sklearn import svm \n",
    "from sklearn.tree import DecisionTreeClassifier \n",
    "iris = datasets.load_iris() \n",
    "X = iris.data  \n",
    "y = iris.target \n",
    "X_train, X_test, y_train, y_test = train_test_split(X, y, test_size=0.2, random_state=1) \n",
    "dt = DecisionTreeClassifier(criterion=\"entropy\") \n",
    "\n",
    "dt.fit(X_train, y_train) \n",
    "\n",
    "dt_pred = dt.predict(X_test) \n",
    "print(\"Name : Athul Gopinath\")\n",
    "print(\"Roll No: CB.SC.I5DAS21018\")\n",
    "print(\"Accuracy of Decision Tree Classifier: \", accuracy_score(y_test, dt_pred)) "
   ]
  },
  {
   "cell_type": "code",
   "execution_count": null,
   "id": "1731494b-f8ca-4999-b589-91a03766fd86",
   "metadata": {},
   "outputs": [],
   "source": []
  }
 ],
 "metadata": {
  "kernelspec": {
   "display_name": "Python 3 (ipykernel)",
   "language": "python",
   "name": "python3"
  },
  "language_info": {
   "codemirror_mode": {
    "name": "ipython",
    "version": 3
   },
   "file_extension": ".py",
   "mimetype": "text/x-python",
   "name": "python",
   "nbconvert_exporter": "python",
   "pygments_lexer": "ipython3",
   "version": "3.11.7"
  }
 },
 "nbformat": 4,
 "nbformat_minor": 5
}
