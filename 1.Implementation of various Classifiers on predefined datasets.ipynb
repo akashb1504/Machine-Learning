{
 "cells": [
  {
   "cell_type": "code",
   "execution_count": 7,
   "id": "12f1c1e0",
   "metadata": {},
   "outputs": [
    {
     "name": "stdout",
     "output_type": "stream",
     "text": [
      "Train:Testing Ratio\n",
      "X_train shape: (120, 4)\n",
      "y_train shape: (120,)\n",
      "X_test shape: (30, 4)\n",
      "y_test shape: (30,)\n",
      "\n",
      "\n",
      "Support Vector Machine\n",
      "Obtained classification results while testing: [0 1 1 0 2 1 2 0 0 2 1 0 2 1 1 0 1 1 0 0 1 1 1 0 2 1 0 0 1 2]\n",
      "Actual classification results: [0 1 1 0 2 1 2 0 0 2 1 0 2 1 1 0 1 1 0 0 1 1 1 0 2 1 0 0 1 2]\n",
      "Accuracy of SVM: 1.0\n",
      "Name: Athul Gopinath\n",
      "Roll No: CB.SC.I5DAS21018\n",
      "Precision of SVM: 1.0\n",
      "Recall of SVM: 1.0\n",
      "F1-Score of SVM: 1.0\n",
      "\n",
      "\n"
     ]
    }
   ],
   "source": [
    "#Support Vector Machine\n",
    "\n",
    "\n",
    "import numpy as np\n",
    "import pandas as pd\n",
    "from sklearn.model_selection import train_test_split\n",
    "from sklearn.metrics import accuracy_score,precision_score,recall_score,f1_score\n",
    "from sklearn import datasets\n",
    "from sklearn import svm\n",
    "from sklearn.tree import DecisionTreeClassifier\n",
    "from sklearn.naive_bayes import GaussianNB\n",
    "\n",
    "iris = datasets.load_iris()\n",
    "X = iris.data\n",
    "y = iris.target\n",
    "\n",
    "print('Train:Testing Ratio')\n",
    "X_train, X_test, y_train, y_test = train_test_split(X, y, test_size=0.2, random_state=1)\n",
    "print(\"X_train shape:\", X_train.shape)\n",
    "print(\"y_train shape:\", y_train.shape)\n",
    "print(\"X_test shape:\", X_test.shape)\n",
    "print(\"y_test shape:\", y_test.shape)\n",
    "print('\\n')\n",
    "#support vector machine\n",
    "print('Support Vector Machine')\n",
    "svm_clf = svm.SVC(kernel='linear')\n",
    "\n",
    "#train the model\n",
    "svm_clf.fit(X_train, y_train)\n",
    "\n",
    "#make predictions\n",
    "svm_clf_pred = svm_clf.predict(X_test)\n",
    "print(\"Obtained classification results while testing:\", svm_clf_pred)\n",
    "print(\"Actual classification results:\", y_test)\n",
    "\n",
    "#print accuracy\n",
    "print(\"Accuracy of SVM:\", accuracy_score(y_test, svm_clf_pred))\n",
    "\n",
    "#print other performance metrics\n",
    "print(\"Name: Athul Gopinath\")\n",
    "print(\"Roll No: CB.SC.I5DAS21018\")\n",
    "print(\"Precision of SVM:\", precision_score(y_test, svm_clf_pred, average='weighted'))\n",
    "print(\"Recall of SVM:\", recall_score(y_test, svm_clf_pred, average='weighted'))\n",
    "print(\"F1-Score of SVM:\", f1_score(y_test, svm_clf_pred, average='weighted'))\n",
    "print('\\n')\n"
   ]
  },
  {
   "cell_type": "code",
   "execution_count": 2,
   "id": "de022a52",
   "metadata": {},
   "outputs": [
    {
     "name": "stdout",
     "output_type": "stream",
     "text": [
      "Gaussian Naive Bayes\n",
      "Accuracy of Gaussian Naive Bayes: 0.9666666666666667\n",
      "Precision of Gaussian Naive Bayes: 0.9714285714285714\n",
      "Recall of Gaussian Naive Bayes: 0.9666666666666667\n",
      "F1-Score of Gaussian Naive Bayes: 0.9672820512820512\n",
      "\n",
      "\n"
     ]
    }
   ],
   "source": [
    "#Gaussian Naive Bayes\n",
    "print('Gaussian Naive Bayes')\n",
    "gnb = GaussianNB()\n",
    "\n",
    "#train the model\n",
    "gnb.fit(X_train, y_train)\n",
    "\n",
    "#make predictions\n",
    "gnb_pred = gnb.predict(X_test)\n",
    "\n",
    "#print the accuracy\n",
    "print(\"Accuracy of Gaussian Naive Bayes:\", accuracy_score(y_test, gnb_pred))\n",
    "\n",
    "#print other performance metrics\n",
    "print(\"Precision of Gaussian Naive Bayes:\", precision_score(y_test, gnb_pred,average='weighted'))\n",
    "print(\"Recall of Gaussian Naive Bayes:\", recall_score(y_test, gnb_pred,average='weighted'))\n",
    "print(\"F1-Score of Gaussian Naive Bayes:\", f1_score(y_test, gnb_pred,average='weighted'))\n",
    "print('\\n')\n"
   ]
  },
  {
   "cell_type": "code",
   "execution_count": 3,
   "id": "609c0cf1",
   "metadata": {},
   "outputs": [
    {
     "name": "stdout",
     "output_type": "stream",
     "text": [
      "Decision Tree Classifier\n",
      "Accuracy of Decision Tree Classifier: 0.9666666666666667\n",
      "Precision of Decision Tree Classifier: 0.9714285714285714\n",
      "Recall of Decision Tree Classifier: 0.9666666666666667\n",
      "F1-Score of Decision Tree Classifier: 0.9672820512820512\n"
     ]
    }
   ],
   "source": [
    "#Decision Tree Classifier\n",
    "print('Decision Tree Classifier')\n",
    "dt = DecisionTreeClassifier(random_state=0)\n",
    "\n",
    "#train the model\n",
    "dt.fit(X_train, y_train)\n",
    "\n",
    "#make predictions\n",
    "dt_pred = dt.predict(X_test)\n",
    "\n",
    "#print the accuracy\n",
    "print(\"Accuracy of Decision Tree Classifier:\", accuracy_score(y_test, dt_pred))\n",
    "\n",
    "#print other performance metrics\n",
    "print(\"Precision of Decision Tree Classifier:\", precision_score(y_test, dt_pred, average='weighted'))\n",
    "print(\"Recall of Decision Tree Classifier:\", recall_score(y_test, dt_pred, average='weighted'))\n",
    "print(\"F1-Score of Decision Tree Classifier:\", f1_score(y_test, dt_pred, average='weighted'))"
   ]
  },
  {
   "cell_type": "code",
   "execution_count": null,
   "id": "f7319668",
   "metadata": {},
   "outputs": [],
   "source": []
  }
 ],
 "metadata": {
  "kernelspec": {
   "display_name": "Python 3 (ipykernel)",
   "language": "python",
   "name": "python3"
  },
  "language_info": {
   "codemirror_mode": {
    "name": "ipython",
    "version": 3
   },
   "file_extension": ".py",
   "mimetype": "text/x-python",
   "name": "python",
   "nbconvert_exporter": "python",
   "pygments_lexer": "ipython3",
   "version": "3.11.7"
  }
 },
 "nbformat": 4,
 "nbformat_minor": 5
}
