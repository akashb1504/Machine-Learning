{
 "cells": [
  {
   "cell_type": "code",
   "execution_count": 4,
   "id": "bebaf6d3-503f-4606-b2a1-3808bff7be03",
   "metadata": {},
   "outputs": [
    {
     "name": "stdout",
     "output_type": "stream",
     "text": [
      "Name : Athul Gopinath\n",
      "Roll No: CB.SC.I5DAS21018\n"
     ]
    },
    {
     "name": "stdin",
     "output_type": "stream",
     "text": [
      "number of neighbours to be selected:  5\n"
     ]
    },
    {
     "name": "stdout",
     "output_type": "stream",
     "text": [
      "[3, 0, 1, 6, 5]\n",
      "Red\n"
     ]
    }
   ],
   "source": [
    "import numpy as np\n",
    "import pandas as pd\n",
    "print(\"Name : Athul Gopinath\")\n",
    "print(\"Roll No: CB.SC.I5DAS21018\")\n",
    "data = pd.read_csv('KNN.csv')\n",
    "X = np.array(data['BRIGHTNESS'])\n",
    "Y = np.array(data['SATURATION'])\n",
    "def euclid_dist(x1,x2):\n",
    " dist = []\n",
    " for i in range(len(X)):\n",
    "     temp = (x1-X[i])**2 + (x2-Y[i])**2\n",
    "     ed = (temp)**(1/2)\n",
    "     dist.append(ed)\n",
    " return dist\n",
    "euclid_dist(22,35)\n",
    "k = int(input('number of neighbours to be selected: '))\n",
    "a = euclid_dist(22,35)\n",
    "b = a.copy()\n",
    "ind = []\n",
    "for i in range(k):\n",
    " m = min(b)\n",
    " ind.append(a.index(m))\n",
    " b.pop(b.index(m))\n",
    "print(ind)\n",
    "y_test = data['CLASS']\n",
    "KNN_predict = y_test[ind]\n",
    "print(max(KNN_predict))\n",
    "\n"
   ]
  },
  {
   "cell_type": "code",
   "execution_count": null,
   "id": "bd78b5a7-7f38-4334-8174-d646aa99c213",
   "metadata": {},
   "outputs": [],
   "source": []
  }
 ],
 "metadata": {
  "kernelspec": {
   "display_name": "Python 3 (ipykernel)",
   "language": "python",
   "name": "python3"
  },
  "language_info": {
   "codemirror_mode": {
    "name": "ipython",
    "version": 3
   },
   "file_extension": ".py",
   "mimetype": "text/x-python",
   "name": "python",
   "nbconvert_exporter": "python",
   "pygments_lexer": "ipython3",
   "version": "3.11.7"
  }
 },
 "nbformat": 4,
 "nbformat_minor": 5
}
